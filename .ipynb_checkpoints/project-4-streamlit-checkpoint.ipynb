{
 "cells": [
  {
   "cell_type": "markdown",
   "id": "2edf1772-13be-41f0-b29f-f19212fb4a4d",
   "metadata": {},
   "source": [
    "# Project 4: Neural Network Hackathon"
   ]
  },
  {
   "cell_type": "code",
   "execution_count": null,
   "id": "d4b4693d-f379-4eb4-99c9-b306758879f9",
   "metadata": {},
   "outputs": [],
   "source": [
    "# Imports\n",
    "import os\n",
    "import shutil\n",
    "\n",
    "import numpy as np\n",
    "import pandas as pd\n",
    "import matplotlib.pyplot as plt\n",
    "import seaborn as sns\n",
    "\n",
    "import tensorflow\n",
    "from tensorflow import keras\n",
    "from tensorflow.keras.layers import Conv2D, MaxPooling2D, Flatten, Dense, Dropout\n",
    "from tensorflow.keras.utils import image_dataset_from_directory\n",
    "from keras.applications import MobileNetV2, VGG16, InceptionV3, Xception, ResNet50"
   ]
  },
  {
   "cell_type": "code",
   "execution_count": null,
   "id": "b19d5434-b57a-49e4-8ee4-0af9a6dd3f11",
   "metadata": {},
   "outputs": [],
   "source": [
    "\n",
    "train_path = '/content/drive/MyDrive/Colab_Notebooks/hotdog-nothotdog/train/'"
   ]
  },
  {
   "cell_type": "code",
   "execution_count": null,
   "id": "a1344984-5882-4dd0-88ee-a4e4bfe1e1a3",
   "metadata": {},
   "outputs": [],
   "source": []
  },
  {
   "cell_type": "code",
   "execution_count": null,
   "id": "1bdd25f5-b177-43f9-9295-bac56073bc3c",
   "metadata": {},
   "outputs": [],
   "source": []
  }
 ],
 "metadata": {
  "kernelspec": {
   "display_name": "Python 3 (ipykernel)",
   "language": "python",
   "name": "python3"
  },
  "language_info": {
   "codemirror_mode": {
    "name": "ipython",
    "version": 3
   },
   "file_extension": ".py",
   "mimetype": "text/x-python",
   "name": "python",
   "nbconvert_exporter": "python",
   "pygments_lexer": "ipython3",
   "version": "3.11.7"
  }
 },
 "nbformat": 4,
 "nbformat_minor": 5
}
